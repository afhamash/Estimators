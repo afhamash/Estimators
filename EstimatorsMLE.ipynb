{
  "nbformat": 4,
  "nbformat_minor": 0,
  "metadata": {
    "colab": {
      "provenance": [],
      "authorship_tag": "ABX9TyM3l5a2SK4uuoAxV1M+/My1",
      "include_colab_link": true
    },
    "kernelspec": {
      "name": "python3",
      "display_name": "Python 3"
    },
    "language_info": {
      "name": "python"
    }
  },
  "cells": [
    {
      "cell_type": "markdown",
      "metadata": {
        "id": "view-in-github",
        "colab_type": "text"
      },
      "source": [
        "<a href=\"https://colab.research.google.com/github/afhamash/Estimators/blob/main/EstimatorsMLE.ipynb\" target=\"_parent\"><img src=\"https://colab.research.google.com/assets/colab-badge.svg\" alt=\"Open In Colab\"/></a>"
      ]
    },
    {
      "cell_type": "code",
      "execution_count": 1,
      "metadata": {
        "id": "cu09LtWyLWnx"
      },
      "outputs": [],
      "source": [
        "# from google.colab import drive\n",
        "# drive.mount('/content/drive')"
      ]
    },
    {
      "cell_type": "code",
      "source": [
        "import numpy as np\n",
        "import cvxpy as cp\n",
        "import scipy as sp\n",
        "import random\n",
        "import time\n",
        "import functools as ft  # needed from defining the function multiKron()\n",
        "from matplotlib import pyplot as plt\n",
        "\n",
        "from numpy import linalg as la\n",
        "from scipy import linalg as sla\n",
        "from scipy import optimize as opt\n",
        "from scipy.optimize import minimize\n",
        "from scipy.linalg import sqrtm as sqm\n",
        "from numpy import trace as tr\n",
        "from numpy import allclose as ac\n",
        "from numpy.linalg import eigh as eigh\n",
        "from numpy.linalg import norm as norm\n",
        "from scipy.linalg import inv as inv\n",
        "from scipy.linalg import pinv as pinv\n",
        "from collections import Counter\n",
        "from math import comb\n",
        "\n",
        "\n",
        "rng = np.random.default_rng()\n",
        "from numpy.linalg import norm\n",
        "from scipy.stats import unitary_group as Unitary\n",
        "from matplotlib.colors import TwoSlopeNorm\n",
        "from matplotlib import rc\n",
        "rc('animation', html='jshtml')\n",
        "from sklearn.metrics import auc\n",
        "from scipy.stats import bernoulli"
      ],
      "metadata": {
        "id": "wpLVO9iOQUZs"
      },
      "execution_count": 30,
      "outputs": []
    },
    {
      "cell_type": "markdown",
      "source": [
        "# General definitions"
      ],
      "metadata": {
        "id": "XmEEuJJwWZWT"
      }
    },
    {
      "cell_type": "code",
      "source": [
        "# Initialize ggplot style for plots\n",
        "plt.style.use('ggplot')\n",
        "from matplotlib import rc\n",
        "rc('animation', html='jshtml')"
      ],
      "metadata": {
        "id": "uj97r9M8WX06"
      },
      "execution_count": 3,
      "outputs": []
    },
    {
      "cell_type": "code",
      "source": [
        "%matplotlib inline\n",
        "from IPython.display import HTML"
      ],
      "metadata": {
        "id": "BDLUc7UYWj4C"
      },
      "execution_count": 4,
      "outputs": []
    },
    {
      "cell_type": "code",
      "source": [
        "np.set_printoptions(precision=4)"
      ],
      "metadata": {
        "id": "EFx9DrTZxyhR"
      },
      "execution_count": 5,
      "outputs": []
    },
    {
      "cell_type": "code",
      "source": [
        "# Define Pauli matrices\n",
        "PI = np.array([[1, 0],[0, 1]], dtype = 'complex128')\n",
        "PX = np.array([[0, 1],[1, 0]], dtype = 'complex128')\n",
        "PY = np.array([[0, 0 - 1j],[0 + 1j, 0]], dtype = 'complex128')\n",
        "PZ = np.array([[1, 0],[0, -1]], dtype = 'complex128')\n",
        "\n",
        "#Defined as a tuple since pauli matrices need not be changed later on\n",
        "Paulis = (PI, PX, PY, PZ)"
      ],
      "metadata": {
        "id": "rq5RDxnbWlab"
      },
      "execution_count": 6,
      "outputs": []
    },
    {
      "cell_type": "code",
      "source": [
        "# Returns a complex Positive semidefinite matrix.\n",
        "def PSDMatrix(Dim, Rank):\n",
        "  X = 2*np.random.randn(Dim, Rank) - 1 + 1j*(2*np.random.randn(Dim, Rank) - 1)\n",
        "  return X@(X.conj().T)\n",
        "\n",
        "def DensityMatrix(Dim, Rank, IsReal = 0):\n",
        "  if IsReal == 1:\n",
        "    X = np.random.randn(Dim, Rank) # Generate random matrix\n",
        "  else:\n",
        "    X = np.random.randn(Dim, Rank) + 1j*(np.random.randn(Dim, Rank))\n",
        "\n",
        "  P = X@(X.conj().T)   #Multiply by its transpose to obtain PSD matrix\n",
        "  return P/np.trace(P)  #Normalise to obtain density matrix\n",
        "\n",
        "\n",
        "# Return an n dimensional probability vector\n",
        "def ProbVec(n):\n",
        "  p = np.random.rand(n)\n",
        "  return p/np.sum(p)\n",
        "\n",
        "# Faster way of computing trace inner product\n",
        "def TrInnerProduct(A,B):\n",
        "  return float(np.real(np.dot(A.flatten().conj(), B.flatten().T)))\n",
        "\n",
        "TIP = TrInnerProduct\n",
        "\n",
        "def TraceDistance(Rho, Sigma):\n",
        "  return la.norm(Rho - Sigma, 'nuc')/2\n",
        "\n",
        "\n",
        "def Fidelity(Rho, Sigma):\n",
        "  return tr(sqm(Rho@Sigma))\n",
        "  # SqRho = sqm(Rho)\n",
        "  # return tr(sqm(SqRho@Sigma@SqRho))\n",
        "\n",
        "def multiKron(*matrices):\n",
        "\n",
        "  try:\n",
        "    if len(matrices) == 1:\n",
        "      matrices = matrices[0]\n",
        "    M = ft.reduce(np.kron, matrices)\n",
        "    return M\n",
        "  except TypeError:\n",
        "    raise Exception('multiKron() must recieve at least 2 matrices as input.')"
      ],
      "metadata": {
        "id": "F7CBlhCYnHfX"
      },
      "execution_count": 7,
      "outputs": []
    },
    {
      "cell_type": "code",
      "source": [
        "# Functions used to construct Pauli strings\n",
        "def list_base4(number):\n",
        "    if number == 0:\n",
        "      yield 0\n",
        "    else:\n",
        "      while number > 0:\n",
        "        number, digit = divmod(number, 4)\n",
        "        yield digit\n",
        "\n",
        "def stringToPauliString(s):\n",
        "  P = 1 + 0j\n",
        "  for i in s:\n",
        "    P = np.kron(P, Paulis[int(i)])\n",
        "  return P"
      ],
      "metadata": {
        "id": "A2xVa5eJxHfT"
      },
      "execution_count": 272,
      "outputs": []
    },
    {
      "cell_type": "code",
      "source": [
        "def generatePauliBasis(n):\n",
        "\n",
        "  temp = [list(list_base4(i)) for i in range(4**n)]\n",
        "  # gets a list of base4 representation of every number from 0 to n-1\n",
        "\n",
        "  base4Lists = [reversed(l) for l in temp] # reverse to get the correct ordering\n",
        "  base4Strings = []  # we want the string representation, not list representation.\n",
        "  for l in base4Lists:\n",
        "    s = [str(j) for j in l]\n",
        "    base4Strings += [''.join(s)]  # convert to string format (from list)\n",
        "\n",
        "  pauliNumberStrings = ['0'*(n-len(s))+s for s in base4Strings]  # append zeros to make every string of length n\n",
        "\n",
        "  PauliMatrices = [stringToPauliString(s) for s in pauliNumberStrings]  # create the Pauli matrix strings from letter strings\n",
        "\n",
        "  PauliArray = [np.reshape(P, newshape = (1, 2**(2*n))) for P in PauliMatrices]  # An array of the Pauli basis elements\n",
        "\n",
        "  PauliMap = np.concatenate(PauliArray, axis = 0) # A d**2 x d**2 matrix whose rows correspond to the flattened Pauli matrices\n",
        "\n",
        "  return (PauliMatrices, PauliMap)"
      ],
      "metadata": {
        "id": "ts0RRP0PF-vx"
      },
      "execution_count": 123,
      "outputs": []
    },
    {
      "cell_type": "code",
      "source": [
        "# Given a vector that sums to 1, returns the nearest\n",
        "# (in terms of Euclidean distance) probability vector\n",
        "def FrobeniusProjection(vec, epsi = 0):\n",
        "  d = len(vec)\n",
        "  theta = np.random.uniform(-1, 1, d) #Random initialization\n",
        "\n",
        "  fun = lambda x: np.linalg.norm(x - vec) ** 2\n",
        "  cons = ({'type': 'eq', 'fun': lambda x: sum(x) - 1})\n",
        "  bnds = tuple([(epsi,1) for i in range(d)])\n",
        "  res = minimize(fun, theta, bounds = bnds, constraints = cons, tol = 1e-8)\n",
        "  return res.x"
      ],
      "metadata": {
        "id": "IHgaKRYSBpHn"
      },
      "execution_count": 275,
      "outputs": []
    },
    {
      "cell_type": "code",
      "source": [
        "# Returns an object of Pauli class\n",
        "class Pauli:\n",
        "\n",
        "  def __init__(self, numberOfQubits):\n",
        "    self.I = PI\n",
        "    self.X = PX\n",
        "    self.Y = PY\n",
        "    self.Z = PZ\n",
        "    self.elements, self.measurementMap = generatePauliBasis(numberOfQubits)\n"
      ],
      "metadata": {
        "id": "iH4lzTQln3Qd"
      },
      "execution_count": 276,
      "outputs": []
    },
    {
      "cell_type": "code",
      "source": [
        "class RandomQuantumState:\n",
        "\n",
        "  def __init__(self, dim, rank, isReal = 0):\n",
        "    pauliMeasurementMap = generatePauliBasis(int(np.log2(dim)))[1]\n",
        "    self.dim = dim\n",
        "    self.rank = rank\n",
        "    self.denMat = DensityMatrix(dim, rank, isReal)\n",
        "    # self.blochVector = np.array((TIP(PX, self.denMat), TIP(PY, self.denMat), TIP(PZ, self.denMat)))\n",
        "    self.blochVector = pauliMeasurementMap@self.denMat.flatten()  # Might need to normalize by a factor of sqrt(d)\n",
        "\n",
        "\n",
        "  def expectation(self, Observable):\n",
        "    return TIP(Observable, self.denMat)\n",
        "\n",
        "\n",
        "class ToQuantumState:\n",
        "\n",
        "  def __init__(self, densityMatrix):\n",
        "    pauliMeasurementMap = generatePauliBasis(int(np.log2(dim)))[1]\n",
        "    self.denMat = densityMatrix\n",
        "    self.dim = int((np.shape(self.denMat)[0]))\n",
        "    # self.rank = rank\n",
        "    self.blochVector = pauliMeasurementMap@self.denMat.flatten()  # Might need to normalize by a factor of sqrt(d)\n",
        "\n",
        "  def expectation(self, Observable):\n",
        "    return TIP(Observable, self.denMat)"
      ],
      "metadata": {
        "id": "merpsKWna7z6"
      },
      "execution_count": 16,
      "outputs": []
    },
    {
      "cell_type": "code",
      "source": [
        "# Use this instead of RandomQuantumState or ToQuantumState\n",
        "class QuantumState:\n",
        "\n",
        "  def __init__(self, *args, dim, rank, isReal = 0):\n",
        "    pauliMeasurementMap = generatePauliBasis(int(np.log2(dim)))[1]\n",
        "    # print(args)\n",
        "    if args == ():\n",
        "      self.denMat = DensityMatrix(dim, rank, isReal)\n",
        "      self.dim = dim\n",
        "      self.rank = rank\n",
        "    else:\n",
        "      self.denMat = args[0]\n",
        "      self.dim = int((np.shape(self.denMat)[0]))\n",
        "    self.blochVector = np.real(pauliMeasurementMap@self.denMat.flatten())\n",
        "\n",
        "  def toRebitVector(self):\n",
        "    if self.dim == 2:\n",
        "      return np.array((TIP(PX, self.denMat), TIP(PZ, self.denMat)))\n",
        "    else:\n",
        "      raise Exception('State must be 2-dimensional for rebit vector')\n",
        "\n",
        "  def expectation(self, Observable):\n",
        "    return TIP(Observable, self.denMat)\n",
        "\n",
        "  def fidelity(self, sigma):  # computes fidelity with another density matrix sigma\n",
        "    return Fidelity(self.denMat, sigma)\n",
        "\n",
        "  def traceDistance(self, sigma):  # computes fidelity with another density matrix sigma\n",
        "    return TraceDistance(self.denMat, sigma)\n",
        "\n",
        "  def pauliMeasFreqs(self, Nmeas):\n",
        "    outcomes = [np.random.choice([0, 1], size = Nmeas, p = np.array([1+b, 1-b])/2) for b in self.blochVector]\n",
        "    freqs = [(list(l).count(0), list(l).count(1)) for l in outcomes]\n",
        "    # probs = [np.array([1+b, 1-b])/2 for b in self.blochVector]\n",
        "    # freqs = [np.random.choice([0,1], size = Nmeas, p = r) for r in probs]\n",
        "    return np.array(freqs)\n",
        "\n",
        "  def measurementFreqs(self, Nmeas, measurement):\n",
        "    sampleSpace = np.arange(len(measurement))\n",
        "    probs = [np.real(TIP(self.denMat, M)) for M in measurement]\n",
        "    outcomes = np.random.choice(sampleSpace, size = Nmeas, p = probs)\n",
        "\n"
      ],
      "metadata": {
        "id": "lIY8zS1zmyz1"
      },
      "execution_count": 168,
      "outputs": []
    },
    {
      "cell_type": "code",
      "source": [
        "# A class whose objects correspond to outcomes of Pauli measurements.\n",
        "# Methods are different estimators which return the estimates\n",
        "class PauliOutcomes:\n",
        "\n",
        "  def __init__(self, counts):\n",
        "    self.counts = counts\n",
        "\n",
        "  def LI(self):\n",
        "    v = self.counts\n",
        "    d = int(np.sqrt(v.shape[0]))\n",
        "    PauliMap = generatePauliBasis(int(np.log2(d)))[1]\n",
        "    BlochEstimate = (v[:,0] - v[:,1])/v[0,0]  # v[0,0] is always the total number of measurements in each axis\n",
        "    LIestimate = (inv(PauliMap)@BlochEstimate).reshape(d, d)\n",
        "    return LIestimate\n",
        "\n",
        "  def PLS(self, eps = 0.0):\n",
        "    LIestimate = self.LI()\n",
        "    D, U = la.eigh(LIestimate)\n",
        "    Proj_D = FrobeniusProjection(D, eps)\n",
        "    PLSEstimate = U@np.diag(Proj_D)@U.conj().T\n",
        "    # print(PLSEstimate)\n",
        "    return PLSEstimate\n"
      ],
      "metadata": {
        "id": "WhC7bamD5Ngg"
      },
      "execution_count": 304,
      "outputs": []
    },
    {
      "cell_type": "code",
      "source": [
        "# Generate m instances of QuantumState object\n",
        "def GenQuantumStates(m, dim, rank):\n",
        "  States = [QuantumState(dim = dim, rank = rank) for i in range(m)]\n",
        "  return States"
      ],
      "metadata": {
        "id": "j6tIfYHS1qta"
      },
      "execution_count": 305,
      "outputs": []
    },
    {
      "cell_type": "code",
      "source": [
        "def PlotStates(blochVectors):\n",
        "\n",
        "  fig, axs = plt.subplots(figsize = (5,5))\n",
        "  axs.scatter(blochVectors[:,0], blochVectors[:,1])\n",
        "\n",
        "  axs.set_xlim(-1.2, 1.2)\n",
        "  axs.set_ylim(-1.2, 1.2)\n",
        "  Circ = plt.Circle((0, 0), 1,fill = False, ec = 'black')\n",
        "  axs.add_artist(Circ)\n",
        "  axs.set_aspect(1)\n",
        "  fig.show()"
      ],
      "metadata": {
        "id": "FvZ6tZ1EXM3C"
      },
      "execution_count": 319,
      "outputs": []
    },
    {
      "cell_type": "markdown",
      "source": [
        "# Numerics"
      ],
      "metadata": {
        "id": "ZX9KqsQsRtQr"
      }
    },
    {
      "cell_type": "code",
      "source": [
        "Rho = QuantumState(dim = 2, rank = 2, isReal = 1)\n",
        "m = 10\n",
        "RhoOutcomes = PauliOutcomes(Rho.pauliMeasFreqs(m))\n",
        "\n",
        "RhoLI = QuantumState(RhoOutcomes.LI(), dim = 2, rank = 2)\n",
        "RhoPLS = QuantumState(RhoOutcomes.PLS(), dim = 2, rank = 2)\n",
        "RhoIPLS = QuantumState(RhoOutcomes.PLS(eps = 1e-1), dim = 2, rank = 2)\n",
        "\n",
        "blochVectors = np.array([Rho.toRebitVector(), RhoLI.toRebitVector(), RhoPLS.toRebitVector(), RhoIPLS.toRebitVector()])\n",
        "blochVectors"
      ],
      "metadata": {
        "colab": {
          "base_uri": "https://localhost:8080/"
        },
        "id": "vupOxcClTtTo",
        "outputId": "ed699909-60ee-4de2-aef9-1399308404c6"
      },
      "execution_count": 353,
      "outputs": [
        {
          "output_type": "execute_result",
          "data": {
            "text/plain": [
              "array([[-8.3953e-01, -3.1582e-01],\n",
              "       [-1.0000e+00,  0.0000e+00],\n",
              "       [-8.5749e-01, -1.1102e-16],\n",
              "       [-6.8599e-01, -1.1102e-16]])"
            ]
          },
          "metadata": {},
          "execution_count": 353
        }
      ]
    },
    {
      "cell_type": "code",
      "source": [
        "PlotStates(blochVectors)"
      ],
      "metadata": {
        "colab": {
          "base_uri": "https://localhost:8080/",
          "height": 445
        },
        "id": "3UwdJ7j9Vm86",
        "outputId": "c3f1140c-1c21-4d3a-d4fd-524f6e1e7511"
      },
      "execution_count": 354,
      "outputs": [
        {
          "output_type": "display_data",
          "data": {
            "text/plain": [
              "<Figure size 500x500 with 1 Axes>"
            ],
            "image/png": "[encoded data removed]"
          },
          "metadata": {}
        }
      ]
    },
    {
      "cell_type": "code",
      "source": [
        "NMeas = [2**i for i in range(6, 11)]\n",
        "\n",
        "eps = 1e-2\n",
        "LIArray, PLSArray, IPLSArray = np.zeros((20, 5)), np.zeros((20, 5)), np.zeros((20, 5))\n",
        "for k in range(20):\n",
        "  LIs = []\n",
        "  PLSs = []\n",
        "  IPLSs = []\n",
        "  for m in NMeas:\n",
        "    RhoOutcomes = PauliOutcomes(Rho.pauliMeasFreqs(m))\n",
        "    LIest = RhoOutcomes.LI()\n",
        "    PLSest = RhoOutcomes.PLS()\n",
        "    IPLSest = RhoOutcomes.PLS(eps)\n",
        "\n",
        "    LIs.append(Rho.traceDistance(LIest))\n",
        "    PLSs.append(Rho.traceDistance(PLSest))\n",
        "    IPLSs.append(Rho.traceDistance(IPLSest))\n",
        "\n",
        "  LIArray[k,:] = np.array(LIs)\n",
        "  PLSArray[k,:] = np.array(PLSs)\n",
        "  IPLSArray[k,:] = np.array(IPLSs)\n",
        "\n",
        "plt.errorbar(NMeas, np.average(LIArray, axis = 0), yerr = np.std(LIArray, axis = 0), fmt='o', capsize=5, label = 'LI')\n",
        "plt.errorbar(NMeas, np.average(PLSArray, axis = 0), yerr = np.std(PLSArray, axis = 0), fmt='o', capsize=5, label = 'PLS')\n",
        "plt.errorbar(NMeas, np.average(IPLSArray, axis = 0), yerr = np.std(IPLSArray, axis = 0), fmt='o', capsize = 5, label = 'IPLS eps = {}'.format(eps))\n",
        "plt.legend()"
      ],
      "metadata": {
        "colab": {
          "base_uri": "https://localhost:8080/",
          "height": 448
        },
        "id": "JYZE5beLrZfE",
        "outputId": "33e1e6f2-02c7-4b42-c3fd-af4adfd17283"
      },
      "execution_count": 271,
      "outputs": [
        {
          "output_type": "execute_result",
          "data": {
            "text/plain": [
              "<matplotlib.legend.Legend at 0x7fb2a443d0c0>"
            ]
          },
          "metadata": {},
          "execution_count": 271
        },
        {
          "output_type": "display_data",
          "data": {
            "text/plain": [
              "<Figure size 640x480 with 1 Axes>"
            ],
            "image/png": "[encoded data removed]"
          },
          "metadata": {}
        }
      ]
    }
  ]
}