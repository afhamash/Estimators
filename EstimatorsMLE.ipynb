{
  "nbformat": 4,
  "nbformat_minor": 0,
  "metadata": {
    "colab": {
      "provenance": [],
      "authorship_tag": "ABX9TyPKgVUhOk2B8hVLVUm7OH7E",
      "include_colab_link": true
    },
    "kernelspec": {
      "name": "python3",
      "display_name": "Python 3"
    },
    "language_info": {
      "name": "python"
    }
  },
  "cells": [
    {
      "cell_type": "markdown",
      "metadata": {
        "id": "view-in-github",
        "colab_type": "text"
      },
      "source": [
        "<a href=\"https://colab.research.google.com/github/afhamash/Estimators/blob/main/EstimatorsMLE.ipynb\" target=\"_parent\"><img src=\"https://colab.research.google.com/assets/colab-badge.svg\" alt=\"Open In Colab\"/></a>"
      ]
    },
    {
      "cell_type": "code",
      "execution_count": null,
      "metadata": {
        "colab": {
          "base_uri": "https://localhost:8080/"
        },
        "id": "cu09LtWyLWnx",
        "outputId": "0134c529-081e-40a6-aec7-f0d5559c5705"
      },
      "outputs": [
        {
          "output_type": "stream",
          "name": "stdout",
          "text": [
            "Mounted at /content/drive\n"
          ]
        }
      ],
      "source": [
        "# from google.colab import drive\n",
        "# drive.mount('/content/drive')"
      ]
    },
    {
      "cell_type": "code",
      "source": [
        "import numpy as np\n",
        "import cvxpy as cp\n",
        "import scipy as sp\n",
        "import random\n",
        "import time\n",
        "import functools as ft  # needed from defining the function multiKron()\n",
        "from matplotlib import pyplot as plt\n",
        "\n",
        "from numpy import linalg as la\n",
        "from scipy import linalg as sla\n",
        "from scipy import optimize as opt\n",
        "from scipy.optimize import minimize\n",
        "from scipy.linalg import sqrtm as sqm\n",
        "from numpy import trace as tr\n",
        "from numpy import allclose as ac\n",
        "from numpy.linalg import eigh as eigh\n",
        "from numpy.linalg import norm as norm\n",
        "from collections import Counter\n",
        "from math import comb\n",
        "\n",
        "\n",
        "rng = np.random.default_rng()\n",
        "from numpy.linalg import norm\n",
        "from scipy.stats import unitary_group as Unitary\n",
        "from matplotlib.colors import TwoSlopeNorm\n",
        "from matplotlib import rc\n",
        "rc('animation', html='jshtml')\n",
        "from sklearn.metrics import auc\n",
        "from scipy.stats import bernoulli"
      ],
      "metadata": {
        "id": "wpLVO9iOQUZs"
      },
      "execution_count": 4,
      "outputs": []
    },
    {
      "cell_type": "markdown",
      "source": [
        "# General definitions"
      ],
      "metadata": {
        "id": "XmEEuJJwWZWT"
      }
    },
    {
      "cell_type": "code",
      "source": [
        "# Initialize ggplot style for plots\n",
        "plt.style.use('ggplot')\n",
        "from matplotlib import rc\n",
        "rc('animation', html='jshtml')"
      ],
      "metadata": {
        "id": "uj97r9M8WX06"
      },
      "execution_count": 5,
      "outputs": []
    },
    {
      "cell_type": "code",
      "source": [
        "%matplotlib inline\n",
        "from IPython.display import HTML"
      ],
      "metadata": {
        "id": "BDLUc7UYWj4C"
      },
      "execution_count": 6,
      "outputs": []
    },
    {
      "cell_type": "code",
      "source": [
        "np.set_printoptions(precision=4)"
      ],
      "metadata": {
        "id": "EFx9DrTZxyhR"
      },
      "execution_count": 7,
      "outputs": []
    },
    {
      "cell_type": "code",
      "source": [
        "# Define Pauli matrices\n",
        "PI = np.array([[1, 0],[0, 1]], dtype = 'complex128')\n",
        "PX = np.array([[0, 1],[1, 0]], dtype = 'complex128')\n",
        "PY = np.array([[0, 0 - 1j],[0 + 1j, 0]], dtype = 'complex128')\n",
        "PZ = np.array([[1, 0],[0, -1]], dtype = 'complex128')\n",
        "\n",
        "#Defined as a tuple since pauli matrices need not be changed later on\n",
        "Paulis = (PI, PX, PY, PZ)"
      ],
      "metadata": {
        "id": "rq5RDxnbWlab"
      },
      "execution_count": 8,
      "outputs": []
    },
    {
      "cell_type": "code",
      "source": [
        "# Returns a complex Positive semidefinite matrix.\n",
        "def PSDMatrix(Dim, Rank):\n",
        "\n",
        "  X = 2*np.random.randn(Dim, Rank) - 1 + 1j*(2*np.random.randn(Dim, Rank) - 1)\n",
        "  P = X@(X.conj().T)\n",
        "\n",
        "  return P\n",
        "\n",
        "\n",
        "def DensityMatrix(Dim, Rank, IsReal = 0):\n",
        "\n",
        "  if IsReal == 1:\n",
        "    X = np.random.randn(Dim, Rank)\n",
        "  else:\n",
        "    X = np.random.randn(Dim, Rank) + 1j*(np.random.randn(Dim, Rank))\n",
        "\n",
        "  #Multiply by its transpose to obtain a postive semidefinite matrix\n",
        "  P = X@(X.conj().T)\n",
        "\n",
        "  #Normalise to obtain density matrix\n",
        "  P = P/np.trace(P)\n",
        "\n",
        "  return P\n",
        "  # Returns a real valued density matrix.\n",
        "\n",
        "\n",
        "# Return an n dimensional probability vector\n",
        "def ProbVec(n):\n",
        "  p = np.random.rand(n)\n",
        "  return p/np.sum(p)\n",
        "\n",
        "\n",
        "# Faster way of computing trace inner product\n",
        "def TrInnerProduct(A,B):\n",
        "  return float(np.real(np.dot(A.flatten().conj(), B.flatten().T)))\n",
        "\n",
        "TIP = TrInnerProduct\n",
        "\n",
        "\n",
        "def TraceDistance(Rho, Sigma):\n",
        "  return la.norm(Rho - Sigma, 'nuc')/2\n",
        "\n",
        "\n",
        "def Fidelity(Rho, Sigma):\n",
        "  return tr(sqm(Rho@Sigma))**2\n",
        "  # SqRho = sqm(Rho)\n",
        "  # return tr(sqm(SqRho@Sigma@SqRho))"
      ],
      "metadata": {
        "id": "F7CBlhCYnHfX"
      },
      "execution_count": 24,
      "outputs": []
    },
    {
      "cell_type": "code",
      "source": [
        "def list_base4(number):\n",
        "    if number == 0:\n",
        "      yield 0\n",
        "    else:\n",
        "      while number > 0:\n",
        "        number, digit = divmod(number, 4)\n",
        "        yield digit\n"
      ],
      "metadata": {
        "id": "A2xVa5eJxHfT"
      },
      "execution_count": 25,
      "outputs": []
    },
    {
      "cell_type": "code",
      "source": [
        "def stringToPauliString(s):\n",
        "\n",
        "  P = 1 + 0j\n",
        "  for i in s:\n",
        "    P = np.kron(P, Paulis[int(i)])\n",
        "\n",
        "  return P"
      ],
      "metadata": {
        "id": "s7Rbmx2_OKnf"
      },
      "execution_count": 26,
      "outputs": []
    },
    {
      "cell_type": "code",
      "source": [
        "def multiKron(*matrices):\n",
        "\n",
        "  try:\n",
        "    if len(matrices) == 1:\n",
        "      matrices = matrices[0]\n",
        "    M = ft.reduce(np.kron, matrices)\n",
        "    return M\n",
        "  except TypeError:\n",
        "    raise Exception('multiKron() must recieve at least 2 matrices as input.')"
      ],
      "metadata": {
        "id": "FKBGVVaYPmSC"
      },
      "execution_count": 27,
      "outputs": []
    },
    {
      "cell_type": "code",
      "source": [
        "def generatePauliBasis(n):\n",
        "\n",
        "  temp = [list(list_base4(i)) for i in list(range(4**n))]\n",
        "  # gets a list of base4 representation of every number from 0 to n-1\n",
        "\n",
        "  base4Lists = [reversed(l) for l in temp] # reverse to get the correct ordering\n",
        "  base4Strings = []  # we want the string representation, not list representation.\n",
        "  for l in base4Lists:\n",
        "    s = [str(j) for j in l]\n",
        "    base4Strings += [''.join(s)]  # convert to string format (from list)\n",
        "\n",
        "  pauliNumberStrings = ['0'*(n-len(s))+s for s in base4Strings]  # append zeros to make every string of length n\n",
        "\n",
        "  PauliMatrices = [stringToPauliString(s) for s in pauliNumberStrings]  # create the Pauli matrix strings from letter strings\n",
        "\n",
        "  PauliArray = [np.reshape(P, newshape = (1, 2**(2*n))) for P in PauliMatrices]  # An array of the Pauli basis elements\n",
        "\n",
        "  PauliMap = np.concatenate(PauliArray, axis = 0) # A d**2 x d**2 matrix whose rows correspond to the flattened Pauli matrices\n",
        "\n",
        "  return (PauliMatrices, PauliMap)"
      ],
      "metadata": {
        "id": "ts0RRP0PF-vx"
      },
      "execution_count": 96,
      "outputs": []
    },
    {
      "cell_type": "code",
      "source": [
        "class Pauli:\n",
        "\n",
        "  def __init__(self, n):\n",
        "    self.I = PI\n",
        "    self.X = PX\n",
        "    self.Y = PY\n",
        "    self.Z = PZ\n",
        "    self.elements, self.measurementMap = generatePauliBasis(n)\n",
        ""
      ],
      "metadata": {
        "id": "iH4lzTQln3Qd"
      },
      "execution_count": 135,
      "outputs": []
    },
    {
      "cell_type": "code",
      "source": [
        "class RandomQuantumState:\n",
        "\n",
        "  def __init__(self, dim, rank, isReal = 0):\n",
        "    pauliMeasurementMap = generatePauliBasis(int(np.log2(dim)))[1]\n",
        "    self.dim = dim\n",
        "    self.rank = rank\n",
        "    self.denMat = DensityMatrix(dim, rank, isReal)\n",
        "    # self.blochVector = np.array((TIP(PX, self.denMat), TIP(PY, self.denMat), TIP(PZ, self.denMat)))\n",
        "    self.blochVector = pauliMeasurementMap@self.denMat.flatten()  # Might need to normalize by a factor of sqrt(d)\n",
        "\n",
        "\n",
        "  def expectation(self, Observable):\n",
        "    return TIP(Observable, self.denMat)\n",
        "\n",
        "\n",
        "class ToQuantumState:\n",
        "\n",
        "  def __init__(self, densityMatrix):\n",
        "    pauliMeasurementMap = generatePauliBasis(int(np.log2(dim)))[1]\n",
        "    self.denMat = densityMatrix\n",
        "    self.dim = int((np.shape(self.denMat)[0]))\n",
        "    # self.rank = rank\n",
        "    self.blochVector = pauliMeasurementMap@self.denMat.flatten()  # Might need to normalize by a factor of sqrt(d)\n",
        "\n",
        "  def expectation(self, Observable):\n",
        "    return TIP(Observable, self.denMat)\n",
        "\n",
        "# Use this instead of RandomQuantumState or ToQuantumState\n",
        "class QuantumState:\n",
        "\n",
        "  def __init__(self, *args, dim, rank, isReal = 0):\n",
        "    pauliMeasurementMap = generatePauliBasis(int(np.log2(dim)))[1]\n",
        "    # print(args)\n",
        "    if args == ():\n",
        "      self.denMat = DensityMatrix(dim, rank, isReal)\n",
        "      self.dim = dim\n",
        "      self.rank = rank\n",
        "    else:\n",
        "      self.denMat = args[0]\n",
        "      self.dim = int((np.shape(self.denMat)[0]))\n",
        "    self.blochVector = pauliMeasurementMap@self.denMat.flatten()  # Might need to normalize by a factor of sqrt(d)\n",
        "\n",
        "  def toRebitVector(self):\n",
        "    if self.dim == 2:\n",
        "      return np.array((TIP(PX, self.denMat), TIP(PZ, self.denMat)))\n",
        "    else:\n",
        "      raise Exception('State must be 2-dimensional for rebit vector')\n",
        "\n",
        "  def expectation(self, Observable):\n",
        "    return TIP(Observable, self.denMat)\n"
      ],
      "metadata": {
        "id": "merpsKWna7z6"
      },
      "execution_count": 136,
      "outputs": []
    },
    {
      "cell_type": "code",
      "source": [
        "# Generate m instances of QuantumState object\n",
        "def GenQuantumStates(m, dim, rank):\n",
        "  States = [QuantumState(dim = dim, rank = rank) for i in range(m)]\n",
        "  return States"
      ],
      "metadata": {
        "id": "j6tIfYHS1qta"
      },
      "execution_count": 138,
      "outputs": []
    },
    {
      "cell_type": "code",
      "source": [
        "def PlotStates(blochVectors):\n",
        "\n",
        "  fig, axs = plt.subplots(figsize = (5,5))\n",
        "  axs.scatter(blochVectors[:,0], blochVectors[:,1],  color = 'blue')\n",
        "\n",
        "  axs.set_xlim(-1.2, 1.2)\n",
        "  axs.set_ylim(-1.2, 1.2)\n",
        "  Circ = plt.Circle((0, 0), 1,fill = False, ec = 'black')\n",
        "  axs.add_artist(Circ)\n",
        "  axs.set_aspect(1)\n",
        "  fig.show()"
      ],
      "metadata": {
        "id": "FvZ6tZ1EXM3C"
      },
      "execution_count": 139,
      "outputs": []
    }
  ]
}